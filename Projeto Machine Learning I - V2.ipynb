{
 "cells": [
  {
   "cell_type": "markdown",
   "id": "f34a5830",
   "metadata": {},
   "source": [
    "# Projeto - Machine Learning I\n",
    "#### `Professor`: Alex Lima"
   ]
  },
  {
   "cell_type": "markdown",
   "id": "10c548c6",
   "metadata": {},
   "source": [
    "Este documento descreve os requisitos e critérios de avaliação para projeto de Machine Learning I.\n",
    "\n",
    "A principal finalidade deste projeto é fazer com o aluno pratique a exploração e modelagem de dados apresentados ao longo do modelo de machine learning I. Assim, durante o planejamento e desenvolvimento de seu projeto, recomenda-se visitar a ementa do módulo e mapear em seu projeto os itens previstos e lecionados em aula.\n",
    "\n",
    "**DESAFIO**: Seu desafio neste módulo é conhecer uma área de negócio ou ciência de seu interesse e propor uma solução por meio de um modelo de machine learning. A solução deve ser apresentada prlo grupo no último dia de aula e detalhada em um report (jupyter notebook). Como referência, a equipe pode seguir os passos descritos a seguir:\n",
    " - `Introdução`\n",
    "     > Descreva a área e a solução proposta em seu projeto\n",
    " - `Coleta de dados`\n",
    "     > Busque ou construa um dataset relacionado ao problema que deseja solucionar.\n",
    " - `Desenvolvimento`\n",
    "     > Desenvolva um modelo de machine learning, utilizando o algoritmo de sua escolha. Inclua métricas e visualizações que tornem seu modelo atrativo e compreensível para que não é da área de dados.\n",
    " - `Apresentação`\n",
    "     > A apresentação deve ocorrer no último dia de aula (29/04). A equipe terá até 20 minutos para apresentar sua solução.\n",
    "  \n",
    "### Bons estudos! Sucesso!\n"
   ]
  },
  {
   "cell_type": "markdown",
   "id": "971faf6d-beae-4910-947d-67b1b846381d",
   "metadata": {},
   "source": [
    "####\n",
    "## Imports"
   ]
  },
  {
   "cell_type": "code",
   "execution_count": 1,
   "id": "87cd0914",
   "metadata": {},
   "outputs": [],
   "source": [
    "import pandas as pd\n",
    "import numpy as np\n",
    "import matplotlib.pyplot as plt\n",
    "import seaborn as sns\n",
    "\n",
    "from sklearn.model_selection import train_test_split\n",
    "from sklearn.preprocessing import StandardScaler\n",
    "from sklearn.linear_model import LogisticRegression\n",
    "from sklearn.tree import DecisionTreeClassifier\n",
    "from sklearn.ensemble import RandomForestClassifier\n",
    "\n",
    "from sklearn.metrics import confusion_matrix\n",
    "from sklearn.metrics import accuracy_score, precision_score, recall_score, f1_score\n",
    "from sklearn.metrics import roc_curve, roc_auc_score\n",
    "\n",
    "from warnings import filterwarnings\n",
    "filterwarnings(\"ignore\")"
   ]
  },
  {
   "cell_type": "markdown",
   "id": "8cdbdde0-84e2-4a02-b1e1-0fd261a2e142",
   "metadata": {},
   "source": [
    "####\n",
    "## Funções para EDA"
   ]
  },
  {
   "cell_type": "markdown",
   "id": "431eaa08-f3e9-43ea-aecc-2107f554a3c8",
   "metadata": {},
   "source": [
    "**Identidade visual**"
   ]
  },
  {
   "cell_type": "code",
   "execution_count": 2,
   "id": "0eadaee9-fe44-404d-b255-fcb78400f1b3",
   "metadata": {},
   "outputs": [],
   "source": [
    "colors = [\"#348888\", \"#22BABB\", \"#9EF8EE\", \"#FA7F08\", \"#F24405\"]\n",
    "title_fontsize = 18\n",
    "title_fontweight = 1000"
   ]
  },
  {
   "cell_type": "markdown",
   "id": "f9ed28e3-8e50-4157-aef1-95a6060abe6f",
   "metadata": {},
   "source": [
    "**Plotagem de gráficos**"
   ]
  },
  {
   "cell_type": "code",
   "execution_count": 17,
   "id": "423b35cd-aa30-49dc-b37f-12ecf7de0e78",
   "metadata": {},
   "outputs": [],
   "source": [
    "def grafico_pizza(data: pd.core.series.Series, labels: pd.core.series.Series, title: str) -> None:\n",
    "    \"\"\"\n",
    "    Esta função plota um gráfico de pizza.    \n",
    "\n",
    "    Parâmetros:\n",
    "    - `data`: recebe um objeto do tipo Série do Pandas, referente aos dados.\n",
    "    - `labels`: recebe um objeto do tipo Série do Pandas, referente aos rótulos.\n",
    "    - `title`: recebe uma string referente ao título do gráfico.\n",
    "    \"\"\"\n",
    "    \n",
    "    plt.figure(figsize=(6, 6))\n",
    "\n",
    "    plt.pie(\n",
    "        data,\n",
    "        explode=(0.1, 0, 0, 0),\n",
    "        labels=labels,\n",
    "        colors=colors,\n",
    "        autopct=\"%1.1f%%\",\n",
    "    )\n",
    "    \n",
    "    plt.title(title, fontsize=title_fontsize, fontweight=title_fontweight)\n",
    "    \n",
    "    plt.show()"
   ]
  },
  {
   "cell_type": "markdown",
   "id": "8fc42386-b1d7-4e27-add1-1295bbff0f45",
   "metadata": {},
   "source": [
    "**Outras**"
   ]
  },
  {
   "cell_type": "code",
   "execution_count": 141,
   "id": "87de34b3-27ab-439e-98fc-8d20e8777904",
   "metadata": {},
   "outputs": [],
   "source": [
    "def features_freq_by_target(dataframe: pd.core.frame.DataFrame, target: str, *features: str, target_condition=None, normalize=True, sort_ascending=True) -> pd.core.frame.DataFrame:\n",
    "    \"\"\"\n",
    "    Esta função retorna um dataframe contendo as frequências relativas de um grupo de features de um dataframe em relação a um target do mesmo dataframe.\n",
    "\n",
    "    Parâmetros:\n",
    "    - `dataframe`: recebe um objeto do tipo DataFrame do Pandas.\n",
    "    - `target`: recebe uma string referente à coluna de target.\n",
    "    - `features`: recebe uma ou mais strings indicando as colunas do DataFrame das quais se deseja obter as frequências em relação ao target.\n",
    "    - `target_condition` (opcional, não definido por padrão): recebe uma string referente a um valor do target, a ser passado como filtro.\n",
    "    - `sort_ascending` (opcional, normalizado por padrão): recebe um valor booleano (True ou False) que define a normalização dos dados em porcentagem.\n",
    "    - `sort_ascending` (opcional, ascendente por padrão): recebe um valor booleano (True ou False) que define a ordenação dos dados.\n",
    "    \"\"\"\n",
    "\n",
    "    result = dataframe.groupby(list(features))[target].value_counts(normalize=normalize)\n",
    "    if normalize:\n",
    "        result *= 100\n",
    "        \n",
    "    result = result.sort_values(ascending=sort_ascending).reset_index()\n",
    "\n",
    "    if target_condition:\n",
    "        mask = result[target] == target_condition\n",
    "        return result[mask]\n",
    "    else:\n",
    "        if normalize:\n",
    "            return result\n",
    "        return result.groupby(list(features)).sum().sort_values(by=\"count\", ascending=sort_ascending).reset_index()\n",
    "\n",
    "\n",
    "def interval_presentation(age: pd._libs.interval.Interval) -> pd._libs.interval.Interval:\n",
    "    \"\"\"\n",
    "    Esta função arredonda os intervalos e os formata para uma melhor apresentação visual.    \n",
    "\n",
    "    Parâmetros:\n",
    "    - `age`: recebe um objeto do tipo Intervalo do Pandas.\n",
    "    \"\"\"\n",
    "    \n",
    "    interval = pd.Interval(left=(round(age.left)), right=(round(age.right)))\n",
    "    return f\"{interval.left} a {interval.right}\""
   ]
  },
  {
   "cell_type": "markdown",
   "id": "84d24a7a-f932-45ae-8a73-fc26d2ae23c3",
   "metadata": {},
   "source": [
    "####\n",
    "## Funções para cálculo das métricas"
   ]
  },
  {
   "cell_type": "code",
   "execution_count": 5,
   "id": "c0e0761d-3792-45f9-bc33-8206c26e59b3",
   "metadata": {},
   "outputs": [],
   "source": [
    "def metricas(y_test, y_pred):\n",
    "    acc = accuracy_score(y_test, y_pred)\n",
    "    pre = precision_score(y_test, y_pred)\n",
    "    rec = recall_score(y_test, y_pred)\n",
    "    f1 = f1_score(y_test, y_pred)\n",
    "    auc = roc_auc_score(y_test, y_pred)\n",
    "    print(f\"\"\"\n",
    "    AVALIAÇÃO DO MODELO - MÉTRICAS DE CLASSIFICAÇÃO\n",
    "    ===============================================\n",
    "\n",
    "    Acurácia:   {acc}\n",
    "    Precisão:   {pre}\n",
    "    Revocação:  {rec}\n",
    "    F1-Score:   {f1}\n",
    "    AUC:        {auc}\n",
    "    \"\"\")\n",
    "\n",
    "def plot_matriz_confusao(y_test, y_pred):\n",
    "    conf_mtx = confusion_matrix(y_test, y_pred)\n",
    "\n",
    "    sns.heatmap(conf_mtx, annot=True, fmt=\"d\")\n",
    "    \n",
    "    plt.title(\"Matriz de confusão\", fontsize=16, fontweight=800, y=1.05)\n",
    "    plt.ylabel(\"Real\")\n",
    "    plt.xlabel(\"Predito\")\n",
    "    \n",
    "    plt.show()\n",
    "\n",
    "def plot_roc_auc(model, X_test, y_test, y_pred):\n",
    "    fpr, tpr, thresholds = roc_curve(y_test, model.predict_proba(X_test)[:,1])\n",
    "    reta = np.arange(0, 1.2, 0.2)\n",
    "\n",
    "    plt.plot(reta, reta, linestyle=\"dashed\")\n",
    "    plt.plot(fpr, tpr, color=\"red\")\n",
    "    \n",
    "    plt.margins(0, 0)\n",
    "    plt.fill_between(fpr, tpr, color=\"#faf7cf\")\n",
    "    \n",
    "    plt.title(\"Curva ROC-AUC\", fontweight=800, fontsize=16, y=1.05)\n",
    "    plt.xlabel(\"Taxa de falsos positivos\")\n",
    "    plt.ylabel(\"Taxa de verdadeiros positivos\")\n",
    "    plt.legend([\"Chances aleatórias\", \"Curva ROC\"])\n",
    "    \n",
    "    plt.show()"
   ]
  },
  {
   "cell_type": "markdown",
   "id": "742ab577-2375-42dd-944c-58daf597b69c",
   "metadata": {},
   "source": [
    "####\n",
    "## Análise exploratória dos dados"
   ]
  },
  {
   "cell_type": "markdown",
   "id": "7577b005-d1e2-4af7-b8e2-9c90688d3318",
   "metadata": {},
   "source": [
    "### Análise inicial"
   ]
  },
  {
   "cell_type": "code",
   "execution_count": 6,
   "id": "c598780f-559f-4152-a2e6-8b11948f06bf",
   "metadata": {},
   "outputs": [],
   "source": [
    "df = pd.read_csv(\"bank-full.csv\", delimiter=\";\")"
   ]
  },
  {
   "cell_type": "code",
   "execution_count": 7,
   "id": "d51f8e6c-1940-416e-82c6-b956d64f5ea3",
   "metadata": {},
   "outputs": [
    {
     "data": {
      "text/html": [
       "<div>\n",
       "<style scoped>\n",
       "    .dataframe tbody tr th:only-of-type {\n",
       "        vertical-align: middle;\n",
       "    }\n",
       "\n",
       "    .dataframe tbody tr th {\n",
       "        vertical-align: top;\n",
       "    }\n",
       "\n",
       "    .dataframe thead th {\n",
       "        text-align: right;\n",
       "    }\n",
       "</style>\n",
       "<table border=\"1\" class=\"dataframe\">\n",
       "  <thead>\n",
       "    <tr style=\"text-align: right;\">\n",
       "      <th></th>\n",
       "      <th>age</th>\n",
       "      <th>job</th>\n",
       "      <th>marital</th>\n",
       "      <th>education</th>\n",
       "      <th>default</th>\n",
       "      <th>balance</th>\n",
       "      <th>housing</th>\n",
       "      <th>loan</th>\n",
       "      <th>contact</th>\n",
       "      <th>day</th>\n",
       "      <th>month</th>\n",
       "      <th>duration</th>\n",
       "      <th>campaign</th>\n",
       "      <th>pdays</th>\n",
       "      <th>previous</th>\n",
       "      <th>poutcome</th>\n",
       "      <th>y</th>\n",
       "    </tr>\n",
       "  </thead>\n",
       "  <tbody>\n",
       "    <tr>\n",
       "      <th>0</th>\n",
       "      <td>58</td>\n",
       "      <td>management</td>\n",
       "      <td>married</td>\n",
       "      <td>tertiary</td>\n",
       "      <td>no</td>\n",
       "      <td>2143</td>\n",
       "      <td>yes</td>\n",
       "      <td>no</td>\n",
       "      <td>unknown</td>\n",
       "      <td>5</td>\n",
       "      <td>may</td>\n",
       "      <td>261</td>\n",
       "      <td>1</td>\n",
       "      <td>-1</td>\n",
       "      <td>0</td>\n",
       "      <td>unknown</td>\n",
       "      <td>no</td>\n",
       "    </tr>\n",
       "    <tr>\n",
       "      <th>1</th>\n",
       "      <td>44</td>\n",
       "      <td>technician</td>\n",
       "      <td>single</td>\n",
       "      <td>secondary</td>\n",
       "      <td>no</td>\n",
       "      <td>29</td>\n",
       "      <td>yes</td>\n",
       "      <td>no</td>\n",
       "      <td>unknown</td>\n",
       "      <td>5</td>\n",
       "      <td>may</td>\n",
       "      <td>151</td>\n",
       "      <td>1</td>\n",
       "      <td>-1</td>\n",
       "      <td>0</td>\n",
       "      <td>unknown</td>\n",
       "      <td>no</td>\n",
       "    </tr>\n",
       "    <tr>\n",
       "      <th>2</th>\n",
       "      <td>33</td>\n",
       "      <td>entrepreneur</td>\n",
       "      <td>married</td>\n",
       "      <td>secondary</td>\n",
       "      <td>no</td>\n",
       "      <td>2</td>\n",
       "      <td>yes</td>\n",
       "      <td>yes</td>\n",
       "      <td>unknown</td>\n",
       "      <td>5</td>\n",
       "      <td>may</td>\n",
       "      <td>76</td>\n",
       "      <td>1</td>\n",
       "      <td>-1</td>\n",
       "      <td>0</td>\n",
       "      <td>unknown</td>\n",
       "      <td>no</td>\n",
       "    </tr>\n",
       "    <tr>\n",
       "      <th>3</th>\n",
       "      <td>47</td>\n",
       "      <td>blue-collar</td>\n",
       "      <td>married</td>\n",
       "      <td>unknown</td>\n",
       "      <td>no</td>\n",
       "      <td>1506</td>\n",
       "      <td>yes</td>\n",
       "      <td>no</td>\n",
       "      <td>unknown</td>\n",
       "      <td>5</td>\n",
       "      <td>may</td>\n",
       "      <td>92</td>\n",
       "      <td>1</td>\n",
       "      <td>-1</td>\n",
       "      <td>0</td>\n",
       "      <td>unknown</td>\n",
       "      <td>no</td>\n",
       "    </tr>\n",
       "    <tr>\n",
       "      <th>4</th>\n",
       "      <td>33</td>\n",
       "      <td>unknown</td>\n",
       "      <td>single</td>\n",
       "      <td>unknown</td>\n",
       "      <td>no</td>\n",
       "      <td>1</td>\n",
       "      <td>no</td>\n",
       "      <td>no</td>\n",
       "      <td>unknown</td>\n",
       "      <td>5</td>\n",
       "      <td>may</td>\n",
       "      <td>198</td>\n",
       "      <td>1</td>\n",
       "      <td>-1</td>\n",
       "      <td>0</td>\n",
       "      <td>unknown</td>\n",
       "      <td>no</td>\n",
       "    </tr>\n",
       "  </tbody>\n",
       "</table>\n",
       "</div>"
      ],
      "text/plain": [
       "   age           job  marital  education default  balance housing loan  \\\n",
       "0   58    management  married   tertiary      no     2143     yes   no   \n",
       "1   44    technician   single  secondary      no       29     yes   no   \n",
       "2   33  entrepreneur  married  secondary      no        2     yes  yes   \n",
       "3   47   blue-collar  married    unknown      no     1506     yes   no   \n",
       "4   33       unknown   single    unknown      no        1      no   no   \n",
       "\n",
       "   contact  day month  duration  campaign  pdays  previous poutcome   y  \n",
       "0  unknown    5   may       261         1     -1         0  unknown  no  \n",
       "1  unknown    5   may       151         1     -1         0  unknown  no  \n",
       "2  unknown    5   may        76         1     -1         0  unknown  no  \n",
       "3  unknown    5   may        92         1     -1         0  unknown  no  \n",
       "4  unknown    5   may       198         1     -1         0  unknown  no  "
      ]
     },
     "execution_count": 7,
     "metadata": {},
     "output_type": "execute_result"
    }
   ],
   "source": [
    "df.head()"
   ]
  },
  {
   "cell_type": "code",
   "execution_count": 8,
   "id": "c07debf7-c9a6-4cc3-a750-fd86cd717931",
   "metadata": {},
   "outputs": [
    {
     "data": {
      "text/plain": [
       "(45211, 17)"
      ]
     },
     "execution_count": 8,
     "metadata": {},
     "output_type": "execute_result"
    }
   ],
   "source": [
    "df.shape"
   ]
  },
  {
   "cell_type": "code",
   "execution_count": 9,
   "id": "1dee952d-cc32-48ca-899f-2a89f9938cc1",
   "metadata": {},
   "outputs": [
    {
     "name": "stdout",
     "output_type": "stream",
     "text": [
      "<class 'pandas.core.frame.DataFrame'>\n",
      "RangeIndex: 45211 entries, 0 to 45210\n",
      "Data columns (total 17 columns):\n",
      " #   Column     Non-Null Count  Dtype \n",
      "---  ------     --------------  ----- \n",
      " 0   age        45211 non-null  int64 \n",
      " 1   job        45211 non-null  object\n",
      " 2   marital    45211 non-null  object\n",
      " 3   education  45211 non-null  object\n",
      " 4   default    45211 non-null  object\n",
      " 5   balance    45211 non-null  int64 \n",
      " 6   housing    45211 non-null  object\n",
      " 7   loan       45211 non-null  object\n",
      " 8   contact    45211 non-null  object\n",
      " 9   day        45211 non-null  int64 \n",
      " 10  month      45211 non-null  object\n",
      " 11  duration   45211 non-null  int64 \n",
      " 12  campaign   45211 non-null  int64 \n",
      " 13  pdays      45211 non-null  int64 \n",
      " 14  previous   45211 non-null  int64 \n",
      " 15  poutcome   45211 non-null  object\n",
      " 16  y          45211 non-null  object\n",
      "dtypes: int64(7), object(10)\n",
      "memory usage: 5.9+ MB\n"
     ]
    }
   ],
   "source": [
    "df.info()"
   ]
  },
  {
   "cell_type": "markdown",
   "id": "7ad1a855-5781-40b7-819d-9777631137a5",
   "metadata": {},
   "source": [
    "#####\n",
    "### Relação entre features e target"
   ]
  },
  {
   "cell_type": "markdown",
   "id": "c7babf9b-f04d-4951-8912-d745ce1fdf79",
   "metadata": {},
   "source": [
    "**Convertidos por faixa de idade**"
   ]
  },
  {
   "cell_type": "code",
   "execution_count": 127,
   "id": "82e78806-73f5-4716-a462-d4186831fc5b",
   "metadata": {},
   "outputs": [
    {
     "data": {
      "text/html": [
       "<div>\n",
       "<style scoped>\n",
       "    .dataframe tbody tr th:only-of-type {\n",
       "        vertical-align: middle;\n",
       "    }\n",
       "\n",
       "    .dataframe tbody tr th {\n",
       "        vertical-align: top;\n",
       "    }\n",
       "\n",
       "    .dataframe thead th {\n",
       "        text-align: right;\n",
       "    }\n",
       "</style>\n",
       "<table border=\"1\" class=\"dataframe\">\n",
       "  <thead>\n",
       "    <tr style=\"text-align: right;\">\n",
       "      <th></th>\n",
       "      <th>age</th>\n",
       "      <th>y</th>\n",
       "      <th>proportion</th>\n",
       "    </tr>\n",
       "  </thead>\n",
       "  <tbody>\n",
       "    <tr>\n",
       "      <th>4</th>\n",
       "      <td>18 a 33</td>\n",
       "      <td>yes</td>\n",
       "      <td>13.620729</td>\n",
       "    </tr>\n",
       "    <tr>\n",
       "      <th>5</th>\n",
       "      <td>48 a 95</td>\n",
       "      <td>yes</td>\n",
       "      <td>13.282088</td>\n",
       "    </tr>\n",
       "    <tr>\n",
       "      <th>6</th>\n",
       "      <td>33 a 39</td>\n",
       "      <td>yes</td>\n",
       "      <td>10.302559</td>\n",
       "    </tr>\n",
       "    <tr>\n",
       "      <th>7</th>\n",
       "      <td>39 a 48</td>\n",
       "      <td>yes</td>\n",
       "      <td>9.023544</td>\n",
       "    </tr>\n",
       "  </tbody>\n",
       "</table>\n",
       "</div>"
      ],
      "text/plain": [
       "       age    y  proportion\n",
       "4  18 a 33  yes   13.620729\n",
       "5  48 a 95  yes   13.282088\n",
       "6  33 a 39  yes   10.302559\n",
       "7  39 a 48  yes    9.023544"
      ]
     },
     "metadata": {},
     "output_type": "display_data"
    }
   ],
   "source": [
    "age_quantiles = pd.qcut(df[\"age\"], 4).apply(interval_presentation)\n",
    "ages_converted = features_freq_by_target(df, \"y\", age_quantiles, target_condition=\"yes\", sort_ascending=False)\n",
    "display(ages_converted)"
   ]
  },
  {
   "cell_type": "code",
   "execution_count": 128,
   "id": "1ab43cd5-fb2f-431b-901c-3cf2325a9764",
   "metadata": {},
   "outputs": [
    {
     "data": {
      "image/png": "[encoded data removed]",
      "text/plain": [
       "<Figure size 600x600 with 1 Axes>"
      ]
     },
     "metadata": {},
     "output_type": "display_data"
    }
   ],
   "source": [
    "grafico_pizza(ages_converted[\"proportion\"], ages_converted[\"age\"], \"Conversão por idade\")"
   ]
  },
  {
   "cell_type": "markdown",
   "id": "806b1b89-b4c6-42e3-9861-9363db356c81",
   "metadata": {},
   "source": [
    "#####\n",
    "**Convertidos por ocupação**"
   ]
  },
  {
   "cell_type": "code",
   "execution_count": 129,
   "id": "e4887dd9-5ea7-46c3-9039-a19fa076c6d4",
   "metadata": {},
   "outputs": [
    {
     "data": {
      "text/html": [
       "<div>\n",
       "<style scoped>\n",
       "    .dataframe tbody tr th:only-of-type {\n",
       "        vertical-align: middle;\n",
       "    }\n",
       "\n",
       "    .dataframe tbody tr th {\n",
       "        vertical-align: top;\n",
       "    }\n",
       "\n",
       "    .dataframe thead th {\n",
       "        text-align: right;\n",
       "    }\n",
       "</style>\n",
       "<table border=\"1\" class=\"dataframe\">\n",
       "  <thead>\n",
       "    <tr style=\"text-align: right;\">\n",
       "      <th></th>\n",
       "      <th>job</th>\n",
       "      <th>y</th>\n",
       "      <th>proportion</th>\n",
       "    </tr>\n",
       "  </thead>\n",
       "  <tbody>\n",
       "    <tr>\n",
       "      <th>12</th>\n",
       "      <td>student</td>\n",
       "      <td>yes</td>\n",
       "      <td>28.678038</td>\n",
       "    </tr>\n",
       "    <tr>\n",
       "      <th>13</th>\n",
       "      <td>retired</td>\n",
       "      <td>yes</td>\n",
       "      <td>22.791519</td>\n",
       "    </tr>\n",
       "    <tr>\n",
       "      <th>14</th>\n",
       "      <td>unemployed</td>\n",
       "      <td>yes</td>\n",
       "      <td>15.502686</td>\n",
       "    </tr>\n",
       "    <tr>\n",
       "      <th>15</th>\n",
       "      <td>management</td>\n",
       "      <td>yes</td>\n",
       "      <td>13.755551</td>\n",
       "    </tr>\n",
       "    <tr>\n",
       "      <th>16</th>\n",
       "      <td>admin.</td>\n",
       "      <td>yes</td>\n",
       "      <td>12.202669</td>\n",
       "    </tr>\n",
       "    <tr>\n",
       "      <th>17</th>\n",
       "      <td>self-employed</td>\n",
       "      <td>yes</td>\n",
       "      <td>11.842939</td>\n",
       "    </tr>\n",
       "    <tr>\n",
       "      <th>18</th>\n",
       "      <td>unknown</td>\n",
       "      <td>yes</td>\n",
       "      <td>11.805556</td>\n",
       "    </tr>\n",
       "    <tr>\n",
       "      <th>19</th>\n",
       "      <td>technician</td>\n",
       "      <td>yes</td>\n",
       "      <td>11.056996</td>\n",
       "    </tr>\n",
       "    <tr>\n",
       "      <th>20</th>\n",
       "      <td>services</td>\n",
       "      <td>yes</td>\n",
       "      <td>8.883004</td>\n",
       "    </tr>\n",
       "    <tr>\n",
       "      <th>21</th>\n",
       "      <td>housemaid</td>\n",
       "      <td>yes</td>\n",
       "      <td>8.790323</td>\n",
       "    </tr>\n",
       "    <tr>\n",
       "      <th>22</th>\n",
       "      <td>entrepreneur</td>\n",
       "      <td>yes</td>\n",
       "      <td>8.271688</td>\n",
       "    </tr>\n",
       "    <tr>\n",
       "      <th>23</th>\n",
       "      <td>blue-collar</td>\n",
       "      <td>yes</td>\n",
       "      <td>7.274969</td>\n",
       "    </tr>\n",
       "  </tbody>\n",
       "</table>\n",
       "</div>"
      ],
      "text/plain": [
       "              job    y  proportion\n",
       "12        student  yes   28.678038\n",
       "13        retired  yes   22.791519\n",
       "14     unemployed  yes   15.502686\n",
       "15     management  yes   13.755551\n",
       "16         admin.  yes   12.202669\n",
       "17  self-employed  yes   11.842939\n",
       "18        unknown  yes   11.805556\n",
       "19     technician  yes   11.056996\n",
       "20       services  yes    8.883004\n",
       "21      housemaid  yes    8.790323\n",
       "22   entrepreneur  yes    8.271688\n",
       "23    blue-collar  yes    7.274969"
      ]
     },
     "metadata": {},
     "output_type": "display_data"
    }
   ],
   "source": [
    "jobs_converted_proportion = features_freq_by_target(df, \"y\", \"job\", target_condition=\"yes\", sort_ascending=False)\n",
    "display(jobs_converted)"
   ]
  },
  {
   "cell_type": "code",
   "execution_count": 64,
   "id": "02836984-efdc-446c-b399-e94cc9fe35e6",
   "metadata": {},
   "outputs": [
    {
     "data": {
      "image/png": "[encoded data removed]",
      "text/plain": [
       "<Figure size 800x600 with 1 Axes>"
      ]
     },
     "metadata": {},
     "output_type": "display_data"
    }
   ],
   "source": [
    "def grafico_barra(x: pd.core.series.Series, y: pd.core.series.Series, labels: pd.core.series.Series, title: str) -> None:\n",
    "    \"\"\"\n",
    "    Esta função plota um gráfico de pizza.    \n",
    "\n",
    "    Parâmetros:\n",
    "    - `data`: recebe um objeto do tipo Série do Pandas, referente aos dados.\n",
    "    - `labels`: recebe um objeto do tipo Série do Pandas, referente aos rótulos.\n",
    "    - `title`: recebe uma string referente ao título do gráfico.\n",
    "    \"\"\"\n",
    "    \n",
    "    plt.figure(figsize=(6, 6))\n",
    "\n",
    "    plt.bar(\n",
    "        x,\n",
    "        y,\n",
    "        explode=(0.1, 0, 0, 0),\n",
    "        labels=labels,\n",
    "        colors=colors,\n",
    "        autopct=\"%1.1f%%\",\n",
    "    )\n",
    "    \n",
    "    plt.title(title, fontsize=title_fontsize, fontweight=title_fontweight)\n",
    "    \n",
    "    plt.show()\n",
    "\n",
    "plt.figure(figsize=(8, 6))\n",
    "\n",
    "plt.bar(jobs_converted_counts[\"job\"], jobs_converted_counts[\"count\"])\n",
    "plt.xticks(rotation=45)\n",
    "\n",
    "# plt.title(title, fontsize=title_fontsize, fontweight=title_fontweight)\n",
    "\n",
    "plt.show()"
   ]
  },
  {
   "cell_type": "code",
   "execution_count": null,
   "id": "2334c389-3882-4001-a50d-7987cd47fe15",
   "metadata": {},
   "outputs": [],
   "source": [
    "target_features_analysis(df, \"y\", \"education\")"
   ]
  },
  {
   "cell_type": "code",
   "execution_count": null,
   "id": "3b80c9ec-5701-48fc-b03c-dc5e2a2390fe",
   "metadata": {},
   "outputs": [],
   "source": [
    "target_features_analysis(df, \"y\", \"default\")"
   ]
  },
  {
   "cell_type": "code",
   "execution_count": null,
   "id": "715f4a92-b32c-4e62-8245-5dd7b92e72a0",
   "metadata": {},
   "outputs": [],
   "source": [
    "balance_quantiles = pd.qcut(df[\"balance\"], 4)\n",
    "target_features_analysis(df, \"balance_quantiles\", \"education\")"
   ]
  },
  {
   "cell_type": "code",
   "execution_count": null,
   "id": "f23077d1-88f4-4448-9156-babe4e128fad",
   "metadata": {},
   "outputs": [],
   "source": [
    "df[\"balance_quantiles\"] = pd.qcut(df[\"balance\"], 4)"
   ]
  },
  {
   "cell_type": "code",
   "execution_count": null,
   "id": "9c6075c3-76af-4995-a77d-e7ba6fc89e7d",
   "metadata": {},
   "outputs": [],
   "source": [
    "df.groupby(\"education\")[\"balance_quantiles\"].value_counts(normalize=True)"
   ]
  },
  {
   "cell_type": "code",
   "execution_count": null,
   "id": "fa2d4630-6b7c-4ac5-a0c5-e24ec9d926a5",
   "metadata": {},
   "outputs": [],
   "source": [
    "df.groupby(\"marital\")[\"y\"].value_counts(normalize=True) * 100"
   ]
  },
  {
   "cell_type": "code",
   "execution_count": null,
   "id": "40b595fe-0995-4442-a584-28d41e76a925",
   "metadata": {},
   "outputs": [],
   "source": [
    "df.groupby(\"housing\")[\"y\"].value_counts(normalize=True) * 100"
   ]
  },
  {
   "cell_type": "code",
   "execution_count": null,
   "id": "f7183339-f885-4435-9ac3-bfe4601bd96a",
   "metadata": {},
   "outputs": [],
   "source": [
    "df.groupby(\"loan\")[\"y\"].value_counts(normalize=True) * 100"
   ]
  },
  {
   "cell_type": "code",
   "execution_count": null,
   "id": "424bb470-834c-44ad-82bc-10d89a2f09d8",
   "metadata": {},
   "outputs": [],
   "source": [
    "df.groupby(\"balance_quantiles\")[\"y\"].value_counts(normalize=True)"
   ]
  },
  {
   "cell_type": "code",
   "execution_count": null,
   "id": "b4e8af06-3cfe-4e2b-9077-6e3d4fb15394",
   "metadata": {},
   "outputs": [],
   "source": []
  }
 ],
 "metadata": {
  "kernelspec": {
   "display_name": "Python 3 (ipykernel)",
   "language": "python",
   "name": "python3"
  },
  "language_info": {
   "codemirror_mode": {
    "name": "ipython",
    "version": 3
   },
   "file_extension": ".py",
   "mimetype": "text/x-python",
   "name": "python",
   "nbconvert_exporter": "python",
   "pygments_lexer": "ipython3",
   "version": "3.12.1"
  }
 },
 "nbformat": 4,
 "nbformat_minor": 5
}
